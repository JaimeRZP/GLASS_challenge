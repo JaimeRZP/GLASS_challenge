{
 "cells": [
  {
   "cell_type": "code",
   "execution_count": 1,
   "metadata": {},
   "outputs": [],
   "source": [
    "import numpy as np\n",
    "import math\n",
    "import matplotlib.pyplot as plt\n",
    "import dices\n",
    "import yaml\n",
    "import healpy as hp\n",
    "import heracles\n",
    "import camb\n",
    "import camb.correlations\n",
    "import skysegmentor\n",
    "from camb.correlations import gauss_legendre_correlation as glc"
   ]
  },
  {
   "cell_type": "code",
   "execution_count": 2,
   "metadata": {},
   "outputs": [],
   "source": [
    "with open(\"./dices_conf.yaml\", mode=\"r\") as file:\n",
    "    config = yaml.safe_load(file)"
   ]
  },
  {
   "cell_type": "code",
   "execution_count": 3,
   "metadata": {},
   "outputs": [
    {
     "data": {
      "text/plain": [
       "{'Nside': 256,\n",
       " 'Njk': 50,\n",
       " 'Output': {'save': False, 'path': './tests/'},\n",
       " 'Fields': {'Nbins': 2,\n",
       "  'TomoBin': 'TOM_BIN_ID',\n",
       "  'Pos': {'Ra': 'SHE_RA', 'Dec': 'SHE_DEC'},\n",
       "  'She': {'Ra': 'SHE_RA',\n",
       "   'Dec': 'SHE_DEC',\n",
       "   'E1': 'SHE_E1_CAL',\n",
       "   'E2': '-SHE_E2_CAL',\n",
       "   'Weights': 'SHE_WEIGHT'}},\n",
       " 'bins': {'Lmin': 10, 'Lmax': 256, 'Lbin': 10, 'Logbins': True},\n",
       " 'DICES': {'bin': False,\n",
       "  'mask_correction': True,\n",
       "  'shrinkage': True,\n",
       "  'delete2_correction': True}}"
      ]
     },
     "execution_count": 3,
     "metadata": {},
     "output_type": "execute_result"
    }
   ],
   "source": [
    "config"
   ]
  },
  {
   "cell_type": "code",
   "execution_count": 4,
   "metadata": {},
   "outputs": [],
   "source": [
    "POS1 = heracles.read_maps(\"gaussian_sims/gaussian_sim_1/POS_1.fits\")\n",
    "SHE1 = heracles.read_maps(\"gaussian_sims/gaussian_sim_1/SHE_1.fits\")\n",
    "POS2 = heracles.read_maps(\"gaussian_sims/gaussian_sim_1/POS_2.fits\")\n",
    "SHE2 = heracles.read_maps(\"gaussian_sims/gaussian_sim_1/SHE_2.fits\")"
   ]
  },
  {
   "cell_type": "code",
   "execution_count": 5,
   "metadata": {},
   "outputs": [],
   "source": [
    "data_maps = {}\n",
    "data_maps[(\"POS\", 1)] = POS1[(\"POS\", 1)]\n",
    "data_maps[(\"POS\", 2)] = POS2[(\"POS\", 2)]\n",
    "data_maps[(\"SHE\", 1)] = SHE1[(\"SHE\", 1)]\n",
    "data_maps[(\"SHE\", 2)] = SHE2[(\"SHE\", 2)]\n",
    "\n",
    "vis_maps = {}\n",
    "vis_maps[(\"VIS\", 1)] = POS1[('POS', 1)] / POS1[('POS', 1)]\n",
    "vis_maps[(\"VIS\", 2)] = POS1[('POS', 1)] / POS1[('POS', 1)]\n",
    "vis_maps[(\"WHT\", 1)] = POS1[('POS', 1)] / POS1[('POS', 1)]\n",
    "vis_maps[(\"WHT\", 2)] = POS1[('POS', 1)] / POS1[('POS', 1)]\n",
    "\n",
    "jk_maps = {}\n",
    "for key in list(vis_maps.keys()):\n",
    "    vmap = vis_maps[key]\n",
    "    jk_maps[key] = skysegmentor.segmentmapN(vmap, config[\"Njk\"])"
   ]
  },
  {
   "cell_type": "code",
   "execution_count": 6,
   "metadata": {},
   "outputs": [
    {
     "data": {
      "text/plain": [
       "array([[-0.00985523,  0.0091472 , -0.01290115, ..., -0.00209875,\n",
       "         0.00083939, -0.00313652],\n",
       "       [ 0.00739814, -0.00454436,  0.00516084, ...,  0.00161228,\n",
       "        -0.00757816,  0.00723842]])"
      ]
     },
     "execution_count": 6,
     "metadata": {},
     "output_type": "execute_result"
    }
   ],
   "source": [
    "SHE1[(\"SHE\", 1)]"
   ]
  },
  {
   "cell_type": "code",
   "execution_count": 7,
   "metadata": {},
   "outputs": [],
   "source": [
    "DICESObj = dices.DICES(data_maps,\n",
    "                       jk_maps,\n",
    "                       vis_maps, \n",
    "                       config) "
   ]
  },
  {
   "cell_type": "code",
   "execution_count": 8,
   "metadata": {},
   "outputs": [],
   "source": [
    "cls0, _ = DICESObj.get_cls()\n",
    "for key in cls0.keys():\n",
    "    cl = cls0[key].__array__()\n",
    "    cls0[key] = heracles.Result(cl, DICESObj.ls)"
   ]
  },
  {
   "cell_type": "code",
   "execution_count": 9,
   "metadata": {},
   "outputs": [
    {
     "name": "stdout",
     "output_type": "stream",
     "text": [
      " - Biases for entire region: [0. 0.] [0. 0.]\n",
      "Computing Ngal and Wmean/var for Jackknife regions\n",
      " - Biases for jackknife regions: [array([0., 0.]), array([0., 0.]), array([0., 0.]), array([0., 0.]), array([0., 0.]), array([0., 0.]), array([0., 0.]), array([0., 0.]), array([0., 0.]), array([0., 0.]), array([0., 0.]), array([0., 0.]), array([0., 0.]), array([0., 0.]), array([0., 0.]), array([0., 0.]), array([0., 0.]), array([0., 0.]), array([0., 0.]), array([0., 0.]), array([0., 0.]), array([0., 0.]), array([0., 0.]), array([0., 0.]), array([0., 0.]), array([0., 0.]), array([0., 0.]), array([0., 0.]), array([0., 0.]), array([0., 0.]), array([0., 0.]), array([0., 0.]), array([0., 0.]), array([0., 0.]), array([0., 0.]), array([0., 0.]), array([0., 0.]), array([0., 0.]), array([0., 0.]), array([0., 0.]), array([0., 0.]), array([0., 0.]), array([0., 0.]), array([0., 0.]), array([0., 0.]), array([0., 0.]), array([0., 0.]), array([0., 0.]), array([0., 0.]), array([0., 0.])] [array([0., 0.]), array([0., 0.]), array([0., 0.]), array([0., 0.]), array([0., 0.]), array([0., 0.]), array([0., 0.]), array([0., 0.]), array([0., 0.]), array([0., 0.]), array([0., 0.]), array([0., 0.]), array([0., 0.]), array([0., 0.]), array([0., 0.]), array([0., 0.]), array([0., 0.]), array([0., 0.]), array([0., 0.]), array([0., 0.]), array([0., 0.]), array([0., 0.]), array([0., 0.]), array([0., 0.]), array([0., 0.]), array([0., 0.]), array([0., 0.]), array([0., 0.]), array([0., 0.]), array([0., 0.]), array([0., 0.]), array([0., 0.]), array([0., 0.]), array([0., 0.]), array([0., 0.]), array([0., 0.]), array([0., 0.]), array([0., 0.]), array([0., 0.]), array([0., 0.]), array([0., 0.]), array([0., 0.]), array([0., 0.]), array([0., 0.]), array([0., 0.]), array([0., 0.]), array([0., 0.]), array([0., 0.]), array([0., 0.]), array([0., 0.])]\n",
      "Making delete-2 Cls - JK [1, 1]/50\r"
     ]
    },
    {
     "ename": "ValueError",
     "evalue": "too many values to unpack (expected 2)",
     "output_type": "error",
     "traceback": [
      "\u001b[0;31m---------------------------------------------------------------------------\u001b[0m",
      "\u001b[0;31mValueError\u001b[0m                                Traceback (most recent call last)",
      "Cell \u001b[0;32mIn[9], line 1\u001b[0m\n\u001b[0;32m----> 1\u001b[0m cls1, _ \u001b[38;5;241m=\u001b[39m \u001b[43mDICESObj\u001b[49m\u001b[38;5;241;43m.\u001b[39;49m\u001b[43mget_delete1_cls\u001b[49m\u001b[43m(\u001b[49m\u001b[43mmask_correction\u001b[49m\u001b[38;5;241;43m=\u001b[39;49m\u001b[38;5;28;43;01mFalse\u001b[39;49;00m\u001b[43m)\u001b[49m\n",
      "File \u001b[0;32m~/anaconda3/envs/glass/lib/python3.13/site-packages/dices/dices.py:226\u001b[0m, in \u001b[0;36mDICES.get_delete1_cls\u001b[0;34m(self, mask_correction)\u001b[0m\n\u001b[1;32m    224\u001b[0m \u001b[38;5;28;01mif\u001b[39;00m \u001b[38;5;28mself\u001b[39m\u001b[38;5;241m.\u001b[39mmask_correction:\n\u001b[1;32m    225\u001b[0m      _, mls0 \u001b[38;5;241m=\u001b[39m \u001b[38;5;28mself\u001b[39m\u001b[38;5;241m.\u001b[39mget_cls()\n\u001b[0;32m--> 226\u001b[0m      cls_cbias \u001b[38;5;241m=\u001b[39m \u001b[38;5;28;43mself\u001b[39;49m\u001b[38;5;241;43m.\u001b[39;49m\u001b[43m_correct_data_cls_mask\u001b[49m\u001b[43m(\u001b[49m\n\u001b[1;32m    227\u001b[0m \u001b[43m        \u001b[49m\u001b[43mcls_cbias\u001b[49m\u001b[43m,\u001b[49m\n\u001b[1;32m    228\u001b[0m \u001b[43m        \u001b[49m\u001b[43mcls_mm\u001b[49m\u001b[43m,\u001b[49m\n\u001b[1;32m    229\u001b[0m \u001b[43m        \u001b[49m\u001b[43mmls0\u001b[49m\u001b[43m,\u001b[49m\n\u001b[1;32m    230\u001b[0m \u001b[43m    \u001b[49m\u001b[43m)\u001b[49m\n\u001b[1;32m    231\u001b[0m \u001b[38;5;28mself\u001b[39m\u001b[38;5;241m.\u001b[39mdelete1_data_cls[jk] \u001b[38;5;241m=\u001b[39m cls_cbias\n\u001b[1;32m    232\u001b[0m \u001b[38;5;28mself\u001b[39m\u001b[38;5;241m.\u001b[39mdelete1_mask_cls[jk] \u001b[38;5;241m=\u001b[39m cls_mm\n",
      "File \u001b[0;32m~/anaconda3/envs/glass/lib/python3.13/site-packages/dices/dices.py:586\u001b[0m, in \u001b[0;36mDICES._correct_data_cls_mask\u001b[0;34m(self, Cljk, Mljk, Mls0)\u001b[0m\n\u001b[1;32m    584\u001b[0m ell \u001b[38;5;241m=\u001b[39m Cljk[cl_key]\u001b[38;5;241m.\u001b[39mell\n\u001b[1;32m    585\u001b[0m \u001b[38;5;66;03m# Correct Cl by mask\u001b[39;00m\n\u001b[0;32m--> 586\u001b[0m ncls, nells \u001b[38;5;241m=\u001b[39m _Cljk\u001b[38;5;241m.\u001b[39mshape\n\u001b[1;32m    587\u001b[0m k1, k2, b1, b2 \u001b[38;5;241m=\u001b[39m cl_key\n\u001b[1;32m    588\u001b[0m \u001b[38;5;28;01mif\u001b[39;00m k1 \u001b[38;5;241m==\u001b[39m k2 \u001b[38;5;241m==\u001b[39m \u001b[38;5;124m\"\u001b[39m\u001b[38;5;124mSHE\u001b[39m\u001b[38;5;124m\"\u001b[39m:\n",
      "\u001b[0;31mValueError\u001b[0m: too many values to unpack (expected 2)"
     ]
    }
   ],
   "source": [
    "cls1, _ = DICESObj.get_delete1_cls(mask_correction=False)"
   ]
  },
  {
   "cell_type": "code",
   "execution_count": null,
   "metadata": {},
   "outputs": [],
   "source": [
    "DICESObj.bin = False\n",
    "shrunk_cov1, cov1, target = DICESObj._get_delete1_cov(cls0, cls1)"
   ]
  },
  {
   "cell_type": "code",
   "execution_count": null,
   "metadata": {},
   "outputs": [],
   "source": [
    "cls2, _ = DICESObj.get_delete2_cls(mask_correction=False)"
   ]
  },
  {
   "cell_type": "code",
   "execution_count": null,
   "metadata": {},
   "outputs": [],
   "source": [
    "Q = DICESObj._get_delete2_correction(\n",
    "    cls0,\n",
    "    cls1,\n",
    "    cls2,\n",
    ")\n",
    "cov2 = {}\n",
    "for key in list(cov1.keys()):\n",
    "    cov2[key] = cov1[key] - Q[key]"
   ]
  },
  {
   "cell_type": "code",
   "execution_count": null,
   "metadata": {},
   "outputs": [],
   "source": [
    "dices_cov = DICESObj._get_dices_cov(cls0, shrunk_cov1, cov2)"
   ]
  },
  {
   "cell_type": "code",
   "execution_count": null,
   "metadata": {},
   "outputs": [],
   "source": [
    "cls0 = dices.compsep_Cls(cls0)\n",
    "for key in list(cls1.keys()):\n",
    "    cls1[key] = dices.compsep_Cls(cls1[key])\n",
    "for key in list(cls2.keys()):\n",
    "    cls2[key] = dices.compsep_Cls(cls2[key])"
   ]
  },
  {
   "cell_type": "code",
   "execution_count": null,
   "metadata": {},
   "outputs": [],
   "source": [
    "_cls1 = {}\n",
    "for key in list(cls1[1].keys()):\n",
    "    _cls = []\n",
    "    for i in range(1, DICESObj.JackNjk+1):\n",
    "        cl = cls1[i][key]\n",
    "        _cls.append(cl)\n",
    "    _cls1[key] = np.array(_cls)\n",
    "\n",
    "_cls2 = {}\n",
    "for key in list(cls2[(1, 2)].keys()):\n",
    "    _cls = []\n",
    "    for i in range(1, DICESObj.JackNjk+1):\n",
    "        for j in range(i+1, DICESObj.JackNjk+1):\n",
    "            cl = cls2[(i, j)][key]\n",
    "            _cls.append(cl)\n",
    "    _cls2[key] = np.array(_cls)\n",
    "\n",
    "cls1_m = {}\n",
    "cls1_s = {}\n",
    "cls2_m = {}\n",
    "cls2_s = {}\n",
    "for key in list(_cls1.keys()):\n",
    "    cls1_m[key] = np.mean(_cls1[key], axis=0)\n",
    "    cls1_s[key] = np.std(_cls1[key], axis=0)\n",
    "    cls2_m[key] = np.mean(_cls2[key], axis=0)\n",
    "    cls2_s[key] = np.std(_cls2[key], axis=0)"
   ]
  },
  {
   "cell_type": "code",
   "execution_count": null,
   "metadata": {},
   "outputs": [],
   "source": [
    "ls = DICESObj.ls\n",
    "lgrid = DICESObj.lgrid"
   ]
  },
  {
   "cell_type": "code",
   "execution_count": null,
   "metadata": {},
   "outputs": [],
   "source": [
    "# WE HAVE TO FIX THIS\n",
    "vcls = np.load('./data/validation_cls.npy', allow_pickle=True).item()\n",
    "vcov = np.load('./data/validation_cov.npy', allow_pickle=True).item()\n",
    "bls = np.load('./data/validation_bls.npy', allow_pickle=True).item()"
   ]
  },
  {
   "cell_type": "code",
   "execution_count": null,
   "metadata": {},
   "outputs": [],
   "source": [
    "# Determine the number of subplots needed\n",
    "num_plots = len(cls1_m)\n",
    "num_cols = math.ceil(math.sqrt(num_plots))\n",
    "num_rows = math.ceil(num_plots / num_cols)\n",
    "\n",
    "fig, axes = plt.subplots(nrows=num_rows, ncols=num_cols, figsize=(25, 15))\n",
    "\n",
    "# Flatten axes array for easy iteration\n",
    "axes = axes.flatten()\n",
    "\n",
    "# Plot each Cls with error bars\n",
    "for (ax, key) in zip(axes, cls1_m.keys()):\n",
    "    a, b, na, nb = key\n",
    "    _vcl = vcls[key]\n",
    "    _cl = cls0[key]#-bls[key]\n",
    "    cl1m = cls1_m[key]\n",
    "    cl1s = cls1_s[key]\n",
    "    cl2m = cls2_m[key]\n",
    "    cl2s = cls2_s[key]\n",
    "    ax.plot(ls, _vcl, 'b-', alpha=0.5, label='Theory')\n",
    "    ax.plot(ls, _cl, 'k-', alpha=0.5, label='Data - DICES')\n",
    "    ax.plot(ls, cl1m, 'r-')\n",
    "    ax.fill_between(ls, cl1m - cl1s, cl1m + cl1s, color='r', alpha=0.5, label='Delete1 - DICES')\n",
    "    ax.plot(ls, cl2m, 'g-')\n",
    "    ax.fill_between(ls, cl2m - cl2s, cl2m + cl2s, color='g', alpha=0.5, label='Delete2 - DICES')\n",
    "    ax.legend()\n",
    "    ax.set_title(f'{key}')\n",
    "    ax.set_ylabel('Cls')\n",
    "    ax.set_xscale('symlog', linthresh=10, linscale=0.5)\n",
    "    ax.set_yscale('symlog', linthresh=1e-9, linscale=0.5)\n",
    "\n",
    "# Hide any unused subplots\n",
    "for ax in axes[len(cls1_m):]:\n",
    "    ax.axis('off')\n",
    "\n",
    "plt.tight_layout()\n",
    "plt.show()"
   ]
  },
  {
   "cell_type": "code",
   "execution_count": null,
   "metadata": {},
   "outputs": [],
   "source": [
    "# Determine the number of subplots needed\n",
    "num_plots = len(cls1_m)\n",
    "num_cols = math.ceil(math.sqrt(num_plots))\n",
    "num_rows = math.ceil(num_plots / num_cols)\n",
    "\n",
    "fig, axes = plt.subplots(nrows=num_rows, ncols=num_cols, figsize=(25, 15))\n",
    "\n",
    "# Flatten axes array for easy iteration\n",
    "axes = axes.flatten()\n",
    "\n",
    "# Plot each Cls with error bars\n",
    "for (ax, key) in zip(axes, cls1_m.keys()):\n",
    "    f1, f2, b1, b2 = key\n",
    "    _vcl = vcls[key]\n",
    "    _cl = cls0[key]\n",
    "    kk = (f1, f2, f1, f2, b1, b2, b1, b2)\n",
    "    dices_c = dices_cov[kk]\n",
    "    dices_err = np.sqrt(np.diag(dices_c))\n",
    "    ax.plot(ls, _vcl, 'k-', alpha=0.5, label='Theory')\n",
    "    ax.errorbar(ls, _cl, yerr=dices_err, color=\"blue\", alpha=0.5, label='Data - DICES')\n",
    "    ax.legend()\n",
    "    ax.set_title(f'{key}')\n",
    "    ax.set_ylabel('Cls')\n",
    "    ax.set_yscale('log')\n",
    "\n",
    "# Hide any unused subplots\n",
    "for ax in axes[len(cls1_m):]:\n",
    "    ax.axis('off')\n",
    "\n",
    "plt.tight_layout()\n",
    "plt.show()"
   ]
  },
  {
   "cell_type": "code",
   "execution_count": null,
   "metadata": {},
   "outputs": [],
   "source": [
    "# Determine the number of subplots needed\n",
    "num_plots = len(cls1_m)\n",
    "num_cols = math.ceil(math.sqrt(num_plots))\n",
    "num_rows = math.ceil(num_plots / num_cols)\n",
    "\n",
    "fig, axes = plt.subplots(nrows=num_rows, ncols=num_cols, figsize=(25, 15))\n",
    "\n",
    "# Flatten axes array for easy iteration\n",
    "axes = axes.flatten()\n",
    "\n",
    "# Plot each Cls with error bars\n",
    "for ax, (key, value) in zip(axes, vcls.items()):\n",
    "    f1, f2, b1, b2 = key\n",
    "    kk = (f1, f2, f1, f2, b1, b2, b1, b2)\n",
    "    c = cov1[kk]\n",
    "    sc = shrunk_cov1[kk]\n",
    "    c2 = cov2[kk]\n",
    "    dc = dices_cov[kk]\n",
    "    vc = vcov[kk]\n",
    "    err = np.sqrt(np.diag(c))\n",
    "    serr = np.sqrt(np.diag(sc))\n",
    "    c2err = np.sqrt(np.diag(c2))\n",
    "    dcerr = np.sqrt(np.diag(dc))\n",
    "    verr = np.sqrt(vc)\n",
    "    if f1 == \"G_B\":\n",
    "        dcerr /= 2\n",
    "    if f2 == \"G_B\":\n",
    "        dcerr /= 2\n",
    "    ax.plot(ls, verr, 'k--', lw=3,label='Gaussian Error w/ bias')\n",
    "    ax.fill_between(ls, np.zeros_like(ls), err, color='green', alpha=0.3, label='delete1 cov')\n",
    "    #ax.fill_between(ls, np.zeros_like(ls), serr, color='orange', alpha=0.3, label='shrunk delete1 cov')\n",
    "    ax.fill_between(ls, np.zeros_like(ls), dcerr, color='blue', alpha=0.3, label='DICES cov')\n",
    "    ax.fill_between(ls, np.zeros_like(ls), c2err, color='red', alpha=0.3, label='delete2 cov')\n",
    "    \n",
    "    ax.set_title(f'{key}')\n",
    "    ax.legend()\n",
    "    ax.set_ylabel('Cls')\n",
    "    ax.loglog()\n",
    "\n",
    "# Hide any unused subplots\n",
    "for ax in axes[len(cls1_m):]:\n",
    "    ax.axis('off')\n",
    "\n",
    "plt.tight_layout()\n",
    "plt.show()"
   ]
  },
  {
   "cell_type": "code",
   "execution_count": null,
   "metadata": {},
   "outputs": [],
   "source": [
    "# Determine the number of subplots needed\n",
    "num_plots = len(cls0)\n",
    "num_cols = math.ceil(math.sqrt(num_plots))\n",
    "num_rows = math.ceil(num_plots / num_cols)\n",
    "\n",
    "fig, axes = plt.subplots(nrows=num_rows, ncols=num_cols, figsize=(25, 15))\n",
    "\n",
    "# Flatten axes array for easy iteration\n",
    "axes = axes.flatten()\n",
    "# Plot each Cls with error bars\n",
    "for ax, (key, value) in zip(axes, vcls.items()):\n",
    "    f1, f2, b1, b2 = key\n",
    "    kk = (f1, f2, f1, f2, b1, b2, b1, b2)\n",
    "    dices_c = dices_cov[kk]\n",
    "    dices_err = np.sqrt(np.diag(dices_c))\n",
    "    cov1_c = cov1[kk]\n",
    "    cov1_err = np.sqrt(np.diag(cov1_c))\n",
    "    cov2_c = cov2[kk]\n",
    "    cov2_err = np.sqrt(np.diag(cov2_c))\n",
    "    vc = vcov[kk]\n",
    "    verr = np.sqrt(vc)\n",
    "    ax.plot(ls, np.zeros(len(ls)), color='black', alpha=0.5)\n",
    "    ax.fill_between(lgrid, -0.2, 0.2, color='black', alpha=0.2)\n",
    "    ax.fill_between(lgrid, -0.1, 0.1, color='black', alpha=0.2)\n",
    "    ax.plot(ls, (cov1_err-verr)/verr, color='green', alpha=0.5, lw=2, label='Delete1')\n",
    "    ax.plot(ls, (cov2_err-verr)/verr, color='red', alpha=0.5,lw=2, label='Delete2')\n",
    "    ax.plot(ls, (dices_err-verr)/verr, color='blue', alpha=0.5, lw=2, label='DICES')\n",
    "    print(key, np.mean((dices_err-verr)//dices_err))\n",
    "    ax.set_title(f'{key}')\n",
    "    ax.legend()\n",
    "    ax.set_ylabel('Cls')\n",
    "    ax.set_yscale('symlog', linthresh=0.2, linscale=1)\n",
    "\n",
    "# Hide any unused subplots\n",
    "for ax in axes[len(cls0):]:\n",
    "    ax.axis('off')\n",
    "\n",
    "plt.tight_layout()\n",
    "plt.show()"
   ]
  }
 ],
 "metadata": {
  "kernelspec": {
   "display_name": "glass",
   "language": "python",
   "name": "python3"
  },
  "language_info": {
   "codemirror_mode": {
    "name": "ipython",
    "version": 3
   },
   "file_extension": ".py",
   "mimetype": "text/x-python",
   "name": "python",
   "nbconvert_exporter": "python",
   "pygments_lexer": "ipython3",
   "version": "3.13.2"
  }
 },
 "nbformat": 4,
 "nbformat_minor": 2
}
